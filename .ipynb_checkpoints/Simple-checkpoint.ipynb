{
 "cells": [
  {
   "cell_type": "code",
   "execution_count": 1,
   "metadata": {},
   "outputs": [],
   "source": [
    "from catalyst import run_algorithm\n",
    "from catalyst.api import order, record, symbol\n",
    "import pandas as pd\n",
    "\n",
    "# Setup matplotlib to display graphs inline in this Notebook\n",
    "%matplotlib inline\n",
    "\n"
   ]
  },
  {
   "cell_type": "code",
   "execution_count": 18,
   "metadata": {},
   "outputs": [
    {
     "name": "stderr",
     "output_type": "stream",
     "text": [
      "[2019-04-03 15:15:53.291533] INFO: run_algo: Catalyst version 0.5.21\n",
      "[2019-04-03 15:15:53.292397] WARNING: run_algo: Catalyst is currently in ALPHA. It is going through rapid development and it is subject to errors. Please use carefully. We encourage you to report any issue on GitHub: https://github.com/enigmampc/catalyst/issues\n",
      "[2019-04-03 15:15:56.296647] INFO: run_algo: running algo in backtest mode\n",
      "[2019-04-03 15:15:56.306501] INFO: exchange_algorithm: initialized trading algorithm in backtest mode\n",
      "[2019-04-03 15:16:00.854754] INFO: Performance: Simulated 976 trading days out of 976.\n",
      "[2019-04-03 15:16:00.855565] INFO: Performance: first open: 2015-03-01 00:00:00+00:00\n",
      "[2019-04-03 15:16:00.856145] INFO: Performance: last close: 2017-10-31 23:59:00+00:00\n"
     ]
    },
    {
     "name": "stdout",
     "output_type": "stream",
     "text": [
      "                           portfolio_value          cash\n",
      "2015-03-01 23:59:00+00:00     1.200000e+06  1.200000e+06\n",
      "2015-03-02 23:59:00+00:00     1.199999e+06  1.199747e+06\n",
      "2015-03-03 23:59:00+00:00     1.200014e+06  1.199479e+06\n",
      "2015-03-04 23:59:00+00:00     1.200039e+06  1.199199e+06\n",
      "2015-03-05 23:59:00+00:00     1.199969e+06  1.198941e+06\n",
      "2015-03-06 23:59:00+00:00     1.199992e+06  1.198677e+06\n",
      "2015-03-07 23:59:00+00:00     1.199977e+06  1.198417e+06\n",
      "2015-03-08 23:59:00+00:00     1.199976e+06  1.198156e+06\n",
      "2015-03-09 23:59:00+00:00     1.200003e+06  1.197891e+06\n",
      "2015-03-10 23:59:00+00:00     1.200219e+06  1.197600e+06\n",
      "2015-03-11 23:59:00+00:00     1.200083e+06  1.197323e+06\n",
      "2015-03-12 23:59:00+00:00     1.200082e+06  1.197046e+06\n",
      "2015-03-13 23:59:00+00:00     1.200072e+06  1.196770e+06\n",
      "2015-03-14 23:59:00+00:00     1.200071e+06  1.196494e+06\n",
      "2015-03-15 23:59:00+00:00     1.200122e+06  1.196215e+06\n",
      "2015-03-16 23:59:00+00:00     1.200065e+06  1.195939e+06\n",
      "2015-03-17 23:59:00+00:00     1.200063e+06  1.195663e+06\n",
      "2015-03-18 23:59:00+00:00     1.199935e+06  1.195395e+06\n",
      "2015-03-19 23:59:00+00:00     1.199897e+06  1.195130e+06\n",
      "2015-03-20 23:59:00+00:00     1.199873e+06  1.194866e+06\n",
      "2015-03-21 23:59:00+00:00     1.199732e+06  1.194609e+06\n",
      "2015-03-22 23:59:00+00:00     1.199958e+06  1.194341e+06\n",
      "2015-03-23 23:59:00+00:00     1.199814e+06  1.194079e+06\n",
      "2015-03-24 23:59:00+00:00     1.199414e+06  1.193836e+06\n",
      "2015-03-25 23:59:00+00:00     1.199527e+06  1.193588e+06\n",
      "2015-03-26 23:59:00+00:00     1.199408e+06  1.193345e+06\n",
      "2015-03-27 23:59:00+00:00     1.199678e+06  1.193091e+06\n",
      "2015-03-28 23:59:00+00:00     1.199821e+06  1.192831e+06\n",
      "2015-03-29 23:59:00+00:00     1.199526e+06  1.192583e+06\n",
      "2015-03-30 23:59:00+00:00     1.199704e+06  1.192328e+06\n",
      "...                                    ...           ...\n",
      "2017-10-02 23:59:00+00:00     4.473823e+06  3.095310e+05\n",
      "2017-10-03 23:59:00+00:00     4.385720e+06  3.052109e+05\n",
      "2017-10-04 23:59:00+00:00     4.295195e+06  3.009866e+05\n",
      "2017-10-05 23:59:00+00:00     4.393553e+06  2.966583e+05\n",
      "2017-10-06 23:59:00+00:00     4.445330e+06  2.922753e+05\n",
      "2017-10-07 23:59:00+00:00     4.508568e+06  2.878256e+05\n",
      "2017-10-08 23:59:00+00:00     4.673583e+06  2.832018e+05\n",
      "2017-10-09 23:59:00+00:00     4.840422e+06  2.784024e+05\n",
      "2017-10-10 23:59:00+00:00     4.827154e+06  2.736169e+05\n",
      "2017-10-11 23:59:00+00:00     4.871884e+06  2.687843e+05\n",
      "2017-10-12 23:59:00+00:00     5.465455e+06  2.633286e+05\n",
      "2017-10-13 23:59:00+00:00     5.661491e+06  2.576673e+05\n",
      "2017-10-14 23:59:00+00:00     5.839570e+06  2.518194e+05\n",
      "2017-10-15 23:59:00+00:00     5.726775e+06  2.460896e+05\n",
      "2017-10-16 23:59:00+00:00     5.775644e+06  2.403086e+05\n",
      "2017-10-17 23:59:00+00:00     5.625306e+06  2.346846e+05\n",
      "2017-10-18 23:59:00+00:00     5.581167e+06  2.291067e+05\n",
      "2017-10-19 23:59:00+00:00     5.709274e+06  2.233952e+05\n",
      "2017-10-20 23:59:00+00:00     6.000417e+06  2.173806e+05\n",
      "2017-10-21 23:59:00+00:00     6.010367e+06  2.113557e+05\n",
      "2017-10-22 23:59:00+00:00     5.973139e+06  2.053694e+05\n",
      "2017-10-23 23:59:00+00:00     5.904754e+06  1.994540e+05\n",
      "2017-10-24 23:59:00+00:00     5.523690e+06  1.939337e+05\n",
      "2017-10-25 23:59:00+00:00     5.726975e+06  1.882029e+05\n",
      "2017-10-26 23:59:00+00:00     5.886231e+06  1.823073e+05\n",
      "2017-10-27 23:59:00+00:00     5.766109e+06  1.765358e+05\n",
      "2017-10-28 23:59:00+00:00     5.729670e+06  1.708019e+05\n",
      "2017-10-29 23:59:00+00:00     6.153446e+06  1.646309e+05\n",
      "2017-10-30 23:59:00+00:00     6.124240e+06  1.584900e+05\n",
      "2017-10-31 23:59:00+00:00     6.440794e+06  1.520232e+05\n",
      "\n",
      "[976 rows x 2 columns]\n"
     ]
    }
   ],
   "source": [
    "def initialize(context):\n",
    "    context.asset = symbol('btc_usdt')\n",
    "\n",
    "def handle_data(context, data):\n",
    "    order(context.asset, 1)\n",
    "    record(\n",
    "        data.current(context.asset, 'volume'),\n",
    "        cash=context.portfolio.starting_cash,\n",
    "        starting_cash=context.portfolio.starting_cash,\n",
    "        leverage=context.account.leverage,\n",
    "    )\n",
    "def analyze(context=None, results=None):\n",
    "    print(results[['portfolio_value','cash']])\n",
    "if __name__ == '__main__':\n",
    "    run_algorithm(\n",
    "        capital_base=1200000,\n",
    "        data_frequency='daily',\n",
    "        initialize=initialize,\n",
    "        handle_data=handle_data,\n",
    "        analyze=analyze,\n",
    "        exchange_name='poloniex',\n",
    "        algo_namespace='buy_btc_simple',\n",
    "        quote_currency='usdt',\n",
    "        start=pd.to_datetime('2015-03-01', utc=True),\n",
    "        end=pd.to_datetime('2017-10-31', utc=True),\n",
    "    )"
   ]
  }
 ],
 "metadata": {
  "kernelspec": {
   "display_name": "Python 3",
   "language": "python",
   "name": "python3"
  },
  "language_info": {
   "codemirror_mode": {
    "name": "ipython",
    "version": 3
   },
   "file_extension": ".py",
   "mimetype": "text/x-python",
   "name": "python",
   "nbconvert_exporter": "python",
   "pygments_lexer": "ipython3",
   "version": "3.6.4"
  },
  "toc": {
   "base_numbering": 1,
   "nav_menu": {},
   "number_sections": false,
   "sideBar": true,
   "skip_h1_title": false,
   "title_cell": "Table of Contents",
   "title_sidebar": "Contents",
   "toc_cell": false,
   "toc_position": {},
   "toc_section_display": true,
   "toc_window_display": false
  },
  "varInspector": {
   "cols": {
    "lenName": 16,
    "lenType": 16,
    "lenVar": 40
   },
   "kernels_config": {
    "python": {
     "delete_cmd_postfix": "",
     "delete_cmd_prefix": "del ",
     "library": "var_list.py",
     "varRefreshCmd": "print(var_dic_list())"
    },
    "r": {
     "delete_cmd_postfix": ") ",
     "delete_cmd_prefix": "rm(",
     "library": "var_list.r",
     "varRefreshCmd": "cat(var_dic_list()) "
    }
   },
   "types_to_exclude": [
    "module",
    "function",
    "builtin_function_or_method",
    "instance",
    "_Feature"
   ],
   "window_display": false
  }
 },
 "nbformat": 4,
 "nbformat_minor": 2
}
