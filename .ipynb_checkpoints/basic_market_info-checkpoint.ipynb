{
 "cells": [
  {
   "cell_type": "code",
   "execution_count": 7,
   "metadata": {},
   "outputs": [
    {
     "name": "stderr",
     "output_type": "stream",
     "text": [
      "[2019-04-03 15:31:20.166369] INFO: run_algo: Catalyst version 0.5.21\n",
      "[2019-04-03 15:31:20.167665] WARNING: run_algo: Catalyst is currently in ALPHA. It is going through rapid development and it is subject to errors. Please use carefully. We encourage you to report any issue on GitHub: https://github.com/enigmampc/catalyst/issues\n",
      "[2019-04-03 15:31:23.171941] INFO: run_algo: running algo in backtest mode\n",
      "[2019-04-03 15:31:23.181046] INFO: exchange_algorithm: initialized trading algorithm in backtest mode\n",
      "[2019-04-03 15:31:23.842851] INFO: Performance: Simulated 212 trading days out of 212.\n",
      "[2019-04-03 15:31:23.843537] INFO: Performance: first open: 2017-01-01 00:00:00+00:00\n",
      "[2019-04-03 15:31:23.844164] INFO: Performance: last close: 2017-07-31 23:59:00+00:00\n"
     ]
    }
   ],
   "source": [
    "import os\n",
    "import pytz\n",
    "from datetime import datetime\n",
    "\n",
    "from catalyst.api import record, symbol, symbols\n",
    "from catalyst.utils.run_algo import run_algorithm\n",
    "\n",
    "def initialize(context):\n",
    "    # Portfolio assets list\n",
    "    context.asset = symbol('btc_usdt') # Bitcoin on Poloniex\n",
    "\n",
    "def handle_data(context, data):\n",
    "    # Variables to record for a given asset: price and volume\n",
    "    price = data.current(context.asset, 'price')\n",
    "    volume = data.current(context.asset, 'volume')\n",
    "    record(price=price, volume=volume)\n",
    "\n",
    "def analyze(context=None, results=None):\n",
    "    # Generate DataFrame with Price and Volume only\n",
    "    data = results[['price']]\n",
    "\n",
    "    # Save results in CSV file\n",
    "    filename = os.path.abspath('')\n",
    "    data.to_csv(filename + '.csv')\n",
    "\n",
    "''' Bitcoin data is available on Poloniex since 2015-3-1.\n",
    "     Dates vary for other tokens. In the example below, we choose the\n",
    "     full month of July of 2017.\n",
    "'''\n",
    "start = datetime(2017, 1, 1, 0, 0, 0, 0, pytz.utc)\n",
    "end = datetime(2017, 7, 31, 0, 0, 0, 0, pytz.utc)\n",
    "results = run_algorithm(initialize=initialize,\n",
    "                                handle_data=handle_data,\n",
    "                                analyze=analyze,\n",
    "                                start=start,\n",
    "                                end=end,\n",
    "                                exchange_name='poloniex',\n",
    "                                capital_base=10000,\n",
    "                                quote_currency = 'usdt')"
   ]
  }
 ],
 "metadata": {
  "kernelspec": {
   "display_name": "Python 3",
   "language": "python",
   "name": "python3"
  },
  "language_info": {
   "codemirror_mode": {
    "name": "ipython",
    "version": 3
   },
   "file_extension": ".py",
   "mimetype": "text/x-python",
   "name": "python",
   "nbconvert_exporter": "python",
   "pygments_lexer": "ipython3",
   "version": "3.6.4"
  },
  "toc": {
   "base_numbering": 1,
   "nav_menu": {},
   "number_sections": false,
   "sideBar": true,
   "skip_h1_title": false,
   "title_cell": "Table of Contents",
   "title_sidebar": "Contents",
   "toc_cell": false,
   "toc_position": {},
   "toc_section_display": true,
   "toc_window_display": false
  },
  "varInspector": {
   "cols": {
    "lenName": 16,
    "lenType": 16,
    "lenVar": 40
   },
   "kernels_config": {
    "python": {
     "delete_cmd_postfix": "",
     "delete_cmd_prefix": "del ",
     "library": "var_list.py",
     "varRefreshCmd": "print(var_dic_list())"
    },
    "r": {
     "delete_cmd_postfix": ") ",
     "delete_cmd_prefix": "rm(",
     "library": "var_list.r",
     "varRefreshCmd": "cat(var_dic_list()) "
    }
   },
   "types_to_exclude": [
    "module",
    "function",
    "builtin_function_or_method",
    "instance",
    "_Feature"
   ],
   "window_display": false
  }
 },
 "nbformat": 4,
 "nbformat_minor": 2
}
