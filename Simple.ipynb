{
 "cells": [
  {
   "cell_type": "code",
   "execution_count": 1,
   "metadata": {},
   "outputs": [],
   "source": [
    "from catalyst import run_algorithm\n",
    "from catalyst.api import order, record, symbol\n",
    "import pandas as pd\n",
    "\n",
    "# Setup matplotlib to display graphs inline in this Notebook\n",
    "%matplotlib inline\n",
    "\n"
   ]
  },
  {
   "cell_type": "code",
   "execution_count": 19,
   "metadata": {},
   "outputs": [
    {
     "name": "stderr",
     "output_type": "stream",
     "text": [
      "[2019-04-03 15:19:24.848692] INFO: run_algo: Catalyst version 0.5.21\n",
      "[2019-04-03 15:19:24.849284] WARNING: run_algo: Catalyst is currently in ALPHA. It is going through rapid development and it is subject to errors. Please use carefully. We encourage you to report any issue on GitHub: https://github.com/enigmampc/catalyst/issues\n",
      "[2019-04-03 15:19:27.852815] INFO: run_algo: running algo in backtest mode\n",
      "[2019-04-03 15:19:27.861349] INFO: exchange_algorithm: initialized trading algorithm in backtest mode\n",
      "[2019-04-03 15:19:30.475867] INFO: Performance: Simulated 976 trading days out of 976.\n",
      "[2019-04-03 15:19:30.476599] INFO: Performance: first open: 2015-03-01 00:00:00+00:00\n",
      "[2019-04-03 15:19:30.477231] INFO: Performance: last close: 2017-10-31 23:59:00+00:00\n"
     ]
    },
    {
     "name": "stdout",
     "output_type": "stream",
     "text": [
      "                           portfolio_value       cash  starting_cash\n",
      "2015-03-01 23:59:00+00:00        1200000.0  1200000.0        1200000\n",
      "2015-03-02 23:59:00+00:00        1200000.0  1200000.0        1200000\n",
      "2015-03-03 23:59:00+00:00        1200000.0  1200000.0        1200000\n",
      "2015-03-04 23:59:00+00:00        1200000.0  1200000.0        1200000\n",
      "2015-03-05 23:59:00+00:00        1200000.0  1200000.0        1200000\n",
      "2015-03-06 23:59:00+00:00        1200000.0  1200000.0        1200000\n",
      "2015-03-07 23:59:00+00:00        1200000.0  1200000.0        1200000\n",
      "2015-03-08 23:59:00+00:00        1200000.0  1200000.0        1200000\n",
      "2015-03-09 23:59:00+00:00        1200000.0  1200000.0        1200000\n",
      "2015-03-10 23:59:00+00:00        1200000.0  1200000.0        1200000\n",
      "2015-03-11 23:59:00+00:00        1200000.0  1200000.0        1200000\n",
      "2015-03-12 23:59:00+00:00        1200000.0  1200000.0        1200000\n",
      "2015-03-13 23:59:00+00:00        1200000.0  1200000.0        1200000\n",
      "2015-03-14 23:59:00+00:00        1200000.0  1200000.0        1200000\n",
      "2015-03-15 23:59:00+00:00        1200000.0  1200000.0        1200000\n",
      "2015-03-16 23:59:00+00:00        1200000.0  1200000.0        1200000\n",
      "2015-03-17 23:59:00+00:00        1200000.0  1200000.0        1200000\n",
      "2015-03-18 23:59:00+00:00        1200000.0  1200000.0        1200000\n",
      "2015-03-19 23:59:00+00:00        1200000.0  1200000.0        1200000\n",
      "2015-03-20 23:59:00+00:00        1200000.0  1200000.0        1200000\n",
      "2015-03-21 23:59:00+00:00        1200000.0  1200000.0        1200000\n",
      "2015-03-22 23:59:00+00:00        1200000.0  1200000.0        1200000\n",
      "2015-03-23 23:59:00+00:00        1200000.0  1200000.0        1200000\n",
      "2015-03-24 23:59:00+00:00        1200000.0  1200000.0        1200000\n",
      "2015-03-25 23:59:00+00:00        1200000.0  1200000.0        1200000\n",
      "2015-03-26 23:59:00+00:00        1200000.0  1200000.0        1200000\n",
      "2015-03-27 23:59:00+00:00        1200000.0  1200000.0        1200000\n",
      "2015-03-28 23:59:00+00:00        1200000.0  1200000.0        1200000\n",
      "2015-03-29 23:59:00+00:00        1200000.0  1200000.0        1200000\n",
      "2015-03-30 23:59:00+00:00        1200000.0  1200000.0        1200000\n",
      "...                                    ...        ...            ...\n",
      "2017-10-02 23:59:00+00:00        1200000.0  1200000.0        1200000\n",
      "2017-10-03 23:59:00+00:00        1200000.0  1200000.0        1200000\n",
      "2017-10-04 23:59:00+00:00        1200000.0  1200000.0        1200000\n",
      "2017-10-05 23:59:00+00:00        1200000.0  1200000.0        1200000\n",
      "2017-10-06 23:59:00+00:00        1200000.0  1200000.0        1200000\n",
      "2017-10-07 23:59:00+00:00        1200000.0  1200000.0        1200000\n",
      "2017-10-08 23:59:00+00:00        1200000.0  1200000.0        1200000\n",
      "2017-10-09 23:59:00+00:00        1200000.0  1200000.0        1200000\n",
      "2017-10-10 23:59:00+00:00        1200000.0  1200000.0        1200000\n",
      "2017-10-11 23:59:00+00:00        1200000.0  1200000.0        1200000\n",
      "2017-10-12 23:59:00+00:00        1200000.0  1200000.0        1200000\n",
      "2017-10-13 23:59:00+00:00        1200000.0  1200000.0        1200000\n",
      "2017-10-14 23:59:00+00:00        1200000.0  1200000.0        1200000\n",
      "2017-10-15 23:59:00+00:00        1200000.0  1200000.0        1200000\n",
      "2017-10-16 23:59:00+00:00        1200000.0  1200000.0        1200000\n",
      "2017-10-17 23:59:00+00:00        1200000.0  1200000.0        1200000\n",
      "2017-10-18 23:59:00+00:00        1200000.0  1200000.0        1200000\n",
      "2017-10-19 23:59:00+00:00        1200000.0  1200000.0        1200000\n",
      "2017-10-20 23:59:00+00:00        1200000.0  1200000.0        1200000\n",
      "2017-10-21 23:59:00+00:00        1200000.0  1200000.0        1200000\n",
      "2017-10-22 23:59:00+00:00        1200000.0  1200000.0        1200000\n",
      "2017-10-23 23:59:00+00:00        1200000.0  1200000.0        1200000\n",
      "2017-10-24 23:59:00+00:00        1200000.0  1200000.0        1200000\n",
      "2017-10-25 23:59:00+00:00        1200000.0  1200000.0        1200000\n",
      "2017-10-26 23:59:00+00:00        1200000.0  1200000.0        1200000\n",
      "2017-10-27 23:59:00+00:00        1200000.0  1200000.0        1200000\n",
      "2017-10-28 23:59:00+00:00        1200000.0  1200000.0        1200000\n",
      "2017-10-29 23:59:00+00:00        1200000.0  1200000.0        1200000\n",
      "2017-10-30 23:59:00+00:00        1200000.0  1200000.0        1200000\n",
      "2017-10-31 23:59:00+00:00        1200000.0  1200000.0        1200000\n",
      "\n",
      "[976 rows x 3 columns]\n"
     ]
    }
   ],
   "source": [
    "def initialize(context):\n",
    "    context.asset = symbol('btc_usdt')\n",
    "\n",
    "def handle_data(context, data):\n",
    "    record(\n",
    "        data.current(context.asset, 'volume'),\n",
    "        cash=context.portfolio.cash,\n",
    "        starting_cash=context.portfolio.starting_cash,\n",
    "        leverage=context.account.leverage,\n",
    "    )\n",
    "def analyze(context=None, results=None):\n",
    "    print(results[['portfolio_value','cash','starting_cash']])\n",
    "if __name__ == '__main__':\n",
    "    run_algorithm(\n",
    "        capital_base=1200000,\n",
    "        data_frequency='daily',\n",
    "        initialize=initialize,\n",
    "        handle_data=handle_data,\n",
    "        analyze=analyze,\n",
    "        exchange_name='poloniex',\n",
    "        algo_namespace='buy_btc_simple',\n",
    "        quote_currency='usdt',\n",
    "        start=pd.to_datetime('2015-03-01', utc=True),\n",
    "        end=pd.to_datetime('2017-10-31', utc=True),\n",
    "    )"
   ]
  }
 ],
 "metadata": {
  "kernelspec": {
   "display_name": "Python 3",
   "language": "python",
   "name": "python3"
  },
  "language_info": {
   "codemirror_mode": {
    "name": "ipython",
    "version": 3
   },
   "file_extension": ".py",
   "mimetype": "text/x-python",
   "name": "python",
   "nbconvert_exporter": "python",
   "pygments_lexer": "ipython3",
   "version": "3.6.4"
  },
  "toc": {
   "base_numbering": 1,
   "nav_menu": {},
   "number_sections": false,
   "sideBar": true,
   "skip_h1_title": false,
   "title_cell": "Table of Contents",
   "title_sidebar": "Contents",
   "toc_cell": false,
   "toc_position": {},
   "toc_section_display": true,
   "toc_window_display": false
  },
  "varInspector": {
   "cols": {
    "lenName": 16,
    "lenType": 16,
    "lenVar": 40
   },
   "kernels_config": {
    "python": {
     "delete_cmd_postfix": "",
     "delete_cmd_prefix": "del ",
     "library": "var_list.py",
     "varRefreshCmd": "print(var_dic_list())"
    },
    "r": {
     "delete_cmd_postfix": ") ",
     "delete_cmd_prefix": "rm(",
     "library": "var_list.r",
     "varRefreshCmd": "cat(var_dic_list()) "
    }
   },
   "types_to_exclude": [
    "module",
    "function",
    "builtin_function_or_method",
    "instance",
    "_Feature"
   ],
   "window_display": false
  }
 },
 "nbformat": 4,
 "nbformat_minor": 2
}
